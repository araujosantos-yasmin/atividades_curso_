{
  "nbformat": 4,
  "nbformat_minor": 0,
  "metadata": {
    "colab": {
      "provenance": [],
      "authorship_tag": "ABX9TyNcRQ5lqlR4NmU/eCrmvUZR",
      "include_colab_link": true
    },
    "kernelspec": {
      "name": "python3",
      "display_name": "Python 3"
    },
    "language_info": {
      "name": "python"
    }
  },
  "cells": [
    {
      "cell_type": "markdown",
      "metadata": {
        "id": "view-in-github",
        "colab_type": "text"
      },
      "source": [
        "<a href=\"https://colab.research.google.com/github/araujosantos-yasmin/atividades_curso_/blob/main/algoritmos_de_busca.ipynb\" target=\"_parent\"><img src=\"https://colab.research.google.com/assets/colab-badge.svg\" alt=\"Open In Colab\"/></a>"
      ]
    },
    {
      "cell_type": "markdown",
      "source": [
        "Algoritmo de busca sequencial\n",
        "*Com vetor desordenado*"
      ],
      "metadata": {
        "id": "xtbAY3JDKOkq"
      }
    },
    {
      "cell_type": "code",
      "source": [
        "def busca_sequencial(lista, elemento):\n",
        "     pos = 0\n",
        "     encontrado = False\n",
        "\n",
        "     while pos < len(lista) and not encontrado:\n",
        "          if lista[pos] == elemento:\n",
        "               encontrado = True\n",
        "          else:\n",
        "              pos = pos+1\n",
        "\n",
        "     return encontrado\n",
        "\n",
        "testelista = [2, 10, 8, 15, 18, 20, 12, 1]\n",
        "\n",
        "print(busca_sequencial(testelista, 5))\n",
        "\n",
        "print(busca_sequencial(testelista, 15))\n"
      ],
      "metadata": {
        "colab": {
          "base_uri": "https://localhost:8080/"
        },
        "id": "KSne5SImKUHp",
        "outputId": "60000dbf-199a-4e34-b105-04e2f7f33c52"
      },
      "execution_count": null,
      "outputs": [
        {
          "output_type": "stream",
          "name": "stdout",
          "text": [
            "False\n",
            "True\n"
          ]
        }
      ]
    },
    {
      "cell_type": "markdown",
      "source": [
        "Algoritmo de busca sequencial *Com vetor ordenado*"
      ],
      "metadata": {
        "id": "bMF_L6xfMQ_i"
      }
    },
    {
      "cell_type": "code",
      "source": [
        "def busca_sequencial_ordenada(lista, elemento):\n",
        "  pos = 0\n",
        "  encontrado = False\n",
        "  para = False\n",
        "  while pos < len(lista) and not encontrado and not para:\n",
        "           if lista[pos] == elemento:\n",
        "                encontrado = True\n",
        "           else:\n",
        "               if lista[pos] > elemento:\n",
        "                   para = True\n",
        "               else:\n",
        "                   pos = pos+1\n",
        "\n",
        "  return encontrado\n",
        "\n",
        "testelista = [1, 2, 8, 10, 13, 15, 18, 20]\n",
        "print(busca_sequencial_ordenada(testelista, 5))\n",
        "print(busca_sequencial_ordenada(testelista, 15))\n"
      ],
      "metadata": {
        "colab": {
          "base_uri": "https://localhost:8080/"
        },
        "id": "XElYofAqMZGC",
        "outputId": "40889043-7898-44d4-b6ca-b8c75ed207d4"
      },
      "execution_count": null,
      "outputs": [
        {
          "output_type": "stream",
          "name": "stdout",
          "text": [
            "False\n",
            "True\n"
          ]
        }
      ]
    },
    {
      "cell_type": "markdown",
      "source": [
        "Algoritmo de Busca Binária"
      ],
      "metadata": {
        "id": "wsm0MwxaRCfp"
      }
    },
    {
      "cell_type": "code",
      "source": [
        "def busca_binaria(lista, elemento):\n",
        "        minimo = 0\n",
        "        maximo = len(lista)-1\n",
        "        encontrado = False\n",
        "\n",
        "        while minimo <= maximo and not encontrado:\n",
        "            meio_lista = (minimo + maximo)//2\n",
        "            if lista[meio_lista] == elemento:\n",
        "                encontrado = True\n",
        "            else:\n",
        "                if elemento < lista[meio_lista]:\n",
        "                    maximo = meio_lista-1\n",
        "                else:\n",
        "                    minimo = meio_lista+1\n",
        "\n",
        "        return encontrado\n",
        "\n",
        "testelista = [1, 2, 3, 4, 5, 6, 7, 8, 9, 10, 11, 12, 13, 14, 15]\n",
        "print(busca_binaria(testelista, 14))"
      ],
      "metadata": {
        "colab": {
          "base_uri": "https://localhost:8080/"
        },
        "id": "382LCtjTRFqK",
        "outputId": "f03b1153-7a58-4687-878d-9d43921885c7"
      },
      "execution_count": null,
      "outputs": [
        {
          "output_type": "stream",
          "name": "stdout",
          "text": [
            "True\n"
          ]
        }
      ]
    }
  ]
}