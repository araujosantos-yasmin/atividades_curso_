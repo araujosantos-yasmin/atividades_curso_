{
  "nbformat": 4,
  "nbformat_minor": 0,
  "metadata": {
    "colab": {
      "provenance": [],
      "authorship_tag": "ABX9TyMz7/0FaUz6Bf3NB9M0uruy",
      "include_colab_link": true
    },
    "kernelspec": {
      "name": "python3",
      "display_name": "Python 3"
    },
    "language_info": {
      "name": "python"
    }
  },
  "cells": [
    {
      "cell_type": "markdown",
      "metadata": {
        "id": "view-in-github",
        "colab_type": "text"
      },
      "source": [
        "<a href=\"https://colab.research.google.com/github/araujosantos-yasmin/atividades_curso_/blob/main/pratica_classes.ipynb\" target=\"_parent\"><img src=\"https://colab.research.google.com/assets/colab-badge.svg\" alt=\"Open In Colab\"/></a>"
      ]
    },
    {
      "cell_type": "markdown",
      "source": [
        "Crie uma classe que modele uma pessoa:\n",
        "(a) Atributos: nome, idade e endereço e\n",
        "(b) Métodos: mostrar endereço e alterar endereço"
      ],
      "metadata": {
        "id": "kJFglBTcG1Ub"
      }
    },
    {
      "cell_type": "code",
      "execution_count": null,
      "metadata": {
        "id": "cm63uZIzFs_f"
      },
      "outputs": [],
      "source": [
        "#Criação da classe \"Pessoa\"\n",
        "class Pessoa():\n",
        "#Método inicializador da classe\n",
        "    def __init__(self, nome, idade, endereco):\n",
        "        #Atributos\n",
        "        self.nome = nome\n",
        "        self.idade = idade\n",
        "        self.endereco = endereco\n",
        "        print(\"Objeto incluido na classe.\")\n",
        "\n",
        "   #Métodos(ações)\n",
        "    def mostrar_endereco(self):\n",
        "        return self.endereco\n",
        "\n",
        "    def alterar_endereco(self, novo_endereco):\n",
        "        self.endereco = novo_endereco\n",
        "        print(\"O novo endereço é %s.\" %(novo_endereco))"
      ]
    },
    {
      "cell_type": "code",
      "source": [
        "#Criação de uma instância da classe \"Pessoa\" (Objeto \"Pessoa1\")\n",
        "Pessoa1 = Pessoa(\"Yasmin\",23,\"São Paulo\")"
      ],
      "metadata": {
        "colab": {
          "base_uri": "https://localhost:8080/"
        },
        "id": "gModDh1ZJ486",
        "outputId": "aafd7e6d-9a65-4256-abef-da45a94473af"
      },
      "execution_count": null,
      "outputs": [
        {
          "output_type": "stream",
          "name": "stdout",
          "text": [
            "Objeto incluido na classe.\n"
          ]
        }
      ]
    },
    {
      "cell_type": "code",
      "source": [
        "#Invocando os atributos\n",
        "Pessoa1.nome"
      ],
      "metadata": {
        "colab": {
          "base_uri": "https://localhost:8080/",
          "height": 35
        },
        "id": "UBYbiXtyKcpB",
        "outputId": "38454e67-9612-4eee-df39-8535b174496c"
      },
      "execution_count": null,
      "outputs": [
        {
          "output_type": "execute_result",
          "data": {
            "text/plain": [
              "'São Paulo'"
            ],
            "application/vnd.google.colaboratory.intrinsic+json": {
              "type": "string"
            }
          },
          "metadata": {},
          "execution_count": 11
        }
      ]
    },
    {
      "cell_type": "code",
      "source": [
        "#Invocando método\n",
        "Pessoa1.mostrar_endereco()"
      ],
      "metadata": {
        "colab": {
          "base_uri": "https://localhost:8080/",
          "height": 35
        },
        "id": "j2KdIjxZL0Uy",
        "outputId": "2ea2c1d8-5c3f-441a-a771-4bbc2d59fc36"
      },
      "execution_count": null,
      "outputs": [
        {
          "output_type": "execute_result",
          "data": {
            "text/plain": [
              "'São Paulo'"
            ],
            "application/vnd.google.colaboratory.intrinsic+json": {
              "type": "string"
            }
          },
          "metadata": {},
          "execution_count": 12
        }
      ]
    },
    {
      "cell_type": "code",
      "source": [
        "#Invocando método que exige argumento\n",
        "Pessoa1.alterar_endereco(\"Rio de Janeiro\")"
      ],
      "metadata": {
        "colab": {
          "base_uri": "https://localhost:8080/"
        },
        "id": "bAU12FSWMy2u",
        "outputId": "5b35851f-ce92-4038-f226-68f4762aa44a"
      },
      "execution_count": null,
      "outputs": [
        {
          "output_type": "stream",
          "name": "stdout",
          "text": [
            "O novo endereço é Rio de Janeiro.\n"
          ]
        }
      ]
    },
    {
      "cell_type": "code",
      "source": [
        "#Invocando atributo modificado\n",
        "Pessoa1.endereco"
      ],
      "metadata": {
        "colab": {
          "base_uri": "https://localhost:8080/",
          "height": 35
        },
        "id": "LgwZuaCYPWdY",
        "outputId": "0e551746-5e42-4d05-8aa7-2e1642e683e8"
      },
      "execution_count": null,
      "outputs": [
        {
          "output_type": "execute_result",
          "data": {
            "text/plain": [
              "'Rio de Janeiro'"
            ],
            "application/vnd.google.colaboratory.intrinsic+json": {
              "type": "string"
            }
          },
          "metadata": {},
          "execution_count": 14
        }
      ]
    }
  ]
}