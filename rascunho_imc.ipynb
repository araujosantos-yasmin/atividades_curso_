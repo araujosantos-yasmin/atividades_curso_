{
  "nbformat": 4,
  "nbformat_minor": 0,
  "metadata": {
    "colab": {
      "provenance": [],
      "authorship_tag": "ABX9TyMTli498jnArZKXCmNuqkIN",
      "include_colab_link": true
    },
    "kernelspec": {
      "name": "python3",
      "display_name": "Python 3"
    },
    "language_info": {
      "name": "python"
    }
  },
  "cells": [
    {
      "cell_type": "markdown",
      "metadata": {
        "id": "view-in-github",
        "colab_type": "text"
      },
      "source": [
        "<a href=\"https://colab.research.google.com/github/araujosantos-yasmin/atividades_curso_/blob/main/rascunho_imc.ipynb\" target=\"_parent\"><img src=\"https://colab.research.google.com/assets/colab-badge.svg\" alt=\"Open In Colab\"/></a>"
      ]
    },
    {
      "cell_type": "code",
      "execution_count": null,
      "metadata": {
        "colab": {
          "base_uri": "https://localhost:8080/"
        },
        "id": "z4bT-Miayib3",
        "outputId": "3416c166-0766-4094-840d-9e2bbc41bbc5"
      },
      "outputs": [
        {
          "output_type": "stream",
          "name": "stdout",
          "text": [
            "Calculadora de Índice de Massa Corporal\n",
            "Digite seu peso (kg): 63\n",
            "Digite sua altura (m): 1.70\n",
            "Peso Normal, IMC: 21.8\n"
          ]
        }
      ],
      "source": [
        "def calculo_imc(peso, altura):\n",
        "    return peso / (altura**2)\n",
        "\n",
        "print(\"Calculadora de Índice de Massa Corporal\")\n",
        "\n",
        "peso = float(input('Digite seu peso (kg): '))\n",
        "altura = float(input('Digite sua altura (m): '))\n",
        "\n",
        "resultado = calculo_imc(peso, altura)\n",
        "\n",
        "if resultado < 18.5:\n",
        "    print('Abaixo do Peso, IMC:', round(resultado, 2))\n",
        "elif resultado >= 18.5 and resultado <= 24.9:\n",
        "    print('Peso Normal, IMC:', round(resultado, 2))\n",
        "elif resultado >= 25 and resultado <= 29.9:\n",
        "    print('Sobrepeso, IMC:', round(resultado, 2))\n",
        "elif resultado >= 30 and resultado <= 34.9:\n",
        "    print('Obesidade Grau I, IMC:', round(resultado, 2))\n",
        "elif resultado >= 35 and resultado <= 39.9:\n",
        "    print('Obesidade Grau II, IMC:', round(resultado, 2))\n",
        "elif resultado >= 40:\n",
        "    print('Obesidade Grau III ou Mórbida, IMC:', round(resultado, 2))\n",
        "else:\n",
        "    print('Resultado não encontrado')\n"
      ]
    }
  ]
}