{
  "cells": [
    {
      "cell_type": "markdown",
      "metadata": {
        "id": "view-in-github",
        "colab_type": "text"
      },
      "source": [
        "<a href=\"https://colab.research.google.com/github/araujosantos-yasmin/atividades_curso_/blob/main/Supervisionada.ipynb\" target=\"_parent\"><img src=\"https://colab.research.google.com/assets/colab-badge.svg\" alt=\"Open In Colab\"/></a>"
      ]
    },
    {
      "cell_type": "code",
      "execution_count": null,
      "id": "fb18d7d5",
      "metadata": {
        "id": "fb18d7d5"
      },
      "outputs": [],
      "source": [
        "#Modelo KNN\n",
        "from sklearn.neighbors import KNeighborsClassifier\n",
        "\n",
        "#Modelo SVM\n",
        "from sklearn.svm import SVC\n",
        "\n",
        "#Modelo Naive Bayes\n",
        "from sklearn.naive_bayes import GaussianNB"
      ]
    },
    {
      "cell_type": "code",
      "execution_count": null,
      "id": "3165f38b",
      "metadata": {
        "id": "3165f38b"
      },
      "outputs": [],
      "source": [
        "#Base de dados\n",
        "\n",
        "#Salário e empréstimo\n",
        "X = [[1212,300],[5049,250],[4500,2000],[1500,0],[3400, 360], [1250, 0], [2200, 100], [2500,800], [1850, 150], [1900, 600],[3900,1500]]\n",
        "#classes de saída. 0 é baixa e 1 é alta\n",
        "y = [0,1,0,1,1,0,1,0,1,0,0]"
      ]
    },
    {
      "cell_type": "code",
      "execution_count": null,
      "id": "baed1991",
      "metadata": {
        "id": "baed1991",
        "outputId": "bd050b83-65ed-4fdb-ff1b-f3c005c8e4f6"
      },
      "outputs": [
        {
          "data": {
            "text/plain": [
              "GaussianNB()"
            ]
          },
          "execution_count": 3,
          "metadata": {},
          "output_type": "execute_result"
        }
      ],
      "source": [
        "#Definição dos modelos\n",
        "model_knn_3 = KNeighborsClassifier(n_neighbors=3)\n",
        "model_knn_3.fit(X,y)\n",
        "model_knn_5 = KNeighborsClassifier(n_neighbors=5)\n",
        "model_knn_5.fit(X,y)\n",
        "model_knn_7 = KNeighborsClassifier(n_neighbors=7)\n",
        "model_knn_7.fit(X,y)\n",
        "model_svm = SVC(kernel='linear')\n",
        "model_svm.fit(X,y)\n",
        "model_naive_bayes = GaussianNB()\n",
        "model_naive_bayes.fit(X,y)"
      ]
    },
    {
      "cell_type": "code",
      "execution_count": null,
      "id": "dc1afb71",
      "metadata": {
        "id": "dc1afb71",
        "outputId": "7f95a141-af85-4e58-b171-2c2e484b4395"
      },
      "outputs": [
        {
          "name": "stdout",
          "output_type": "stream",
          "text": [
            "Modelo KNN com o K = 3: Alta\n",
            "Modelo KNN com o K = 5: Alta\n",
            "Modelo KNN com o K = 7: Baixa\n",
            "Modelo SVM: Alta\n",
            "Modelo Naive Bayes: Baixa\n"
          ]
        },
        {
          "name": "stderr",
          "output_type": "stream",
          "text": [
            "/home/agendayasminsantos/anaconda3/lib/python3.9/site-packages/sklearn/neighbors/_classification.py:228: FutureWarning: Unlike other reduction functions (e.g. `skew`, `kurtosis`), the default behavior of `mode` typically preserves the axis it acts along. In SciPy 1.11.0, this behavior will change: the default value of `keepdims` will become False, the `axis` over which the statistic is taken will be eliminated, and the value None will no longer be accepted. Set `keepdims` to True or False to avoid this warning.\n",
            "  mode, _ = stats.mode(_y[neigh_ind, k], axis=1)\n",
            "/home/agendayasminsantos/anaconda3/lib/python3.9/site-packages/sklearn/neighbors/_classification.py:228: FutureWarning: Unlike other reduction functions (e.g. `skew`, `kurtosis`), the default behavior of `mode` typically preserves the axis it acts along. In SciPy 1.11.0, this behavior will change: the default value of `keepdims` will become False, the `axis` over which the statistic is taken will be eliminated, and the value None will no longer be accepted. Set `keepdims` to True or False to avoid this warning.\n",
            "  mode, _ = stats.mode(_y[neigh_ind, k], axis=1)\n",
            "/home/agendayasminsantos/anaconda3/lib/python3.9/site-packages/sklearn/neighbors/_classification.py:228: FutureWarning: Unlike other reduction functions (e.g. `skew`, `kurtosis`), the default behavior of `mode` typically preserves the axis it acts along. In SciPy 1.11.0, this behavior will change: the default value of `keepdims` will become False, the `axis` over which the statistic is taken will be eliminated, and the value None will no longer be accepted. Set `keepdims` to True or False to avoid this warning.\n",
            "  mode, _ = stats.mode(_y[neigh_ind, k], axis=1)\n"
          ]
        }
      ],
      "source": [
        "#Teste\n",
        "X_test = [[2100,400]]\n",
        "prediction_3 = model_knn_3.predict(X_test)\n",
        "prediction_5 = model_knn_5.predict(X_test)\n",
        "prediction_7 = model_knn_7.predict(X_test)\n",
        "prediction_svm = model_svm.predict(X_test)\n",
        "prediction_nb = model_naive_bayes.predict(X_test)\n",
        "print(\"Modelo KNN com o K = 3:\", 'Alta' if prediction_3 == 1 else 'Baixa')\n",
        "print(\"Modelo KNN com o K = 5:\", 'Alta' if prediction_5 == 1 else 'Baixa')\n",
        "print(\"Modelo KNN com o K = 7:\", 'Alta' if prediction_7 == 1 else 'Baixa')\n",
        "print(\"Modelo SVM:\", 'Alta' if prediction_svm == 1 else 'Baixa')\n",
        "print(\"Modelo Naive Bayes:\", 'Alta' if prediction_nb == 1 else 'Baixa')"
      ]
    },
    {
      "cell_type": "code",
      "execution_count": null,
      "id": "34cb7e67",
      "metadata": {
        "id": "34cb7e67"
      },
      "outputs": [],
      "source": []
    }
  ],
  "metadata": {
    "kernelspec": {
      "display_name": "Python 3 (ipykernel)",
      "language": "python",
      "name": "python3"
    },
    "language_info": {
      "codemirror_mode": {
        "name": "ipython",
        "version": 3
      },
      "file_extension": ".py",
      "mimetype": "text/x-python",
      "name": "python",
      "nbconvert_exporter": "python",
      "pygments_lexer": "ipython3",
      "version": "3.9.13"
    },
    "colab": {
      "provenance": [],
      "include_colab_link": true
    }
  },
  "nbformat": 4,
  "nbformat_minor": 5
}